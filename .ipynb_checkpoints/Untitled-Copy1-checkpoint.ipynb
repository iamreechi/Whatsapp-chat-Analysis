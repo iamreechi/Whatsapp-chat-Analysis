{
 "cells": [
  {
   "cell_type": "code",
   "execution_count": 1,
   "metadata": {},
   "outputs": [],
   "source": [
    "import pandas as pd\n",
    "import re\n",
    "import matplotlib.pyplot as plt"
   ]
  },
  {
   "cell_type": "code",
   "execution_count": 2,
   "metadata": {},
   "outputs": [
    {
     "name": "stdout",
     "output_type": "stream",
     "text": [
      "5019\n"
     ]
    }
   ],
   "source": [
    "#Red txt data file \n",
    "with open(\"WhatsApp Chat with Young Data Professionals.txt\", \"r\", encoding = \"utf-8\") as file:\n",
    "    chats = file.readlines()\n",
    "print(len(chats))"
   ]
  },
  {
   "cell_type": "code",
   "execution_count": 3,
   "metadata": {},
   "outputs": [
    {
     "name": "stdout",
     "output_type": "stream",
     "text": [
      "5019\n",
      "4109\n"
     ]
    }
   ],
   "source": [
    "#Remove new lines\n",
    "chats = [line.strip() for line in chats]\n",
    "chats[:10]\n",
    "print(len(chats))\n",
    "\n",
    "#Clean out the join notification lines\n",
    "apfesh = [line for line in chats if not \"joined using this\" in line]\n",
    "\n",
    "#Further cleaning\n",
    "#Remove empty lines\n",
    "apfesh = [line for line in apfesh if len(line) > 1]\n",
    "print(len(apfesh))"
   ]
  },
  {
   "cell_type": "code",
   "execution_count": 4,
   "metadata": {},
   "outputs": [
    {
     "name": "stdout",
     "output_type": "stream",
     "text": [
      "5019\n",
      "4109\n"
     ]
    }
   ],
   "source": [
    "#Remove new lines\n",
    "chats = [line.strip() for line in chats]\n",
    "chats[:10]\n",
    "print(len(chats))\n",
    "\n",
    "#Clean out the join notification lines\n",
    "apfesh = [line for line in chats if not \"joined using this\" in line]\n",
    "\n",
    "#Further cleaning\n",
    "#Remove empty lines\n",
    "apfesh = [line for line in apfesh if len(line) > 1]\n",
    "print(len(apfesh))"
   ]
  },
  {
   "cell_type": "code",
   "execution_count": 5,
   "metadata": {},
   "outputs": [
    {
     "name": "stdout",
     "output_type": "stream",
     "text": [
      "4109\n"
     ]
    }
   ],
   "source": [
    "#Remove even more auto lines\n",
    "apfesh = [line for line in apfesh if not \"You revoked\" in line]\n",
    "print(len(apfesh))"
   ]
  },
  {
   "cell_type": "code",
   "execution_count": 6,
   "metadata": {},
   "outputs": [
    {
     "data": {
      "text/plain": [
       "['11/10/2019, 8:33 am - +91 99873 83204 left',\n",
       " '05/11/2019, 10:36 am - +234 706 280 6584 left',\n",
       " '06/11/2019, 11:37 am - +27 84 747 2376 left',\n",
       " '22/11/2019, 6:43 pm - +234 701 676 6686 left',\n",
       " '30/11/2019, 5:26 pm - +234 803 584 4082 left',\n",
       " '27/12/2019, 8:04 pm - +234 814 245 0802 left',\n",
       " '27/12/2019, 10:31 pm - +44 7575 259209 left',\n",
       " '28/12/2019, 3:55 pm - +254 721 433278 left',\n",
       " '28/12/2019, 4:06 pm - +234 906 887 7194 left',\n",
       " '28/12/2019, 6:42 pm - +1 (214) 862-2763 left',\n",
       " '28/12/2019, 10:12 pm - +27 82 780 8535 left',\n",
       " '28/12/2019, 10:12 pm - +44 7432 021974 left',\n",
       " '28/12/2019, 10:13 pm - +234 906 057 4984 left',\n",
       " '28/12/2019, 10:38 pm - +234 816 083 0319 left',\n",
       " '29/12/2019, 11:36 am - +234 706 551 8058 left',\n",
       " '29/12/2019, 4:11 pm - +94 71 667 2477 left',\n",
       " '29/12/2019, 4:32 pm - Bethel left',\n",
       " '29/12/2019, 6:04 pm - +234 802 826 6988 left',\n",
       " '30/12/2019, 7:33 am - +234 806 474 5380 left',\n",
       " '30/12/2019, 1:22 pm - +91 86683 44150 left',\n",
       " '30/12/2019, 7:30 pm - +234 806 019 9045 left',\n",
       " '30/12/2019, 7:48 pm - +27 66 486 7109 left',\n",
       " '30/12/2019, 9:18 pm - +234 815 567 4362 left',\n",
       " '30/12/2019, 9:27 pm - +234 907 057 5162 left',\n",
       " '31/12/2019, 8:32 am - +234 805 444 1077 left',\n",
       " '31/12/2019, 11:04 am - +234 808 325 6441: It’ll show audit at the button left',\n",
       " '31/12/2019, 2:22 pm - +234 708 006 1883 left',\n",
       " '31/12/2019, 2:46 pm - +234 703 423 7226 left',\n",
       " '31/12/2019, 7:21 pm - +234 813 546 7670 left',\n",
       " '01/01/2020, 1:00 am - +91 87541 57580 left',\n",
       " '01/01/2020, 1:01 am - +234 909 784 4237 left',\n",
       " '01/01/2020, 1:05 am - +234 703 832 2233 left',\n",
       " '01/01/2020, 1:11 am - +234 909 617 2330 left',\n",
       " '01/01/2020, 1:16 am - +234 814 530 6447 left',\n",
       " '01/01/2020, 7:36 am - +234 706 345 8163 left',\n",
       " '01/01/2020, 8:39 am - +234 802 607 0518 left',\n",
       " '01/01/2020, 2:08 pm - +965 9600 2246 left',\n",
       " '02/01/2020, 8:04 pm - +234 807 523 6653 left',\n",
       " '02/01/2020, 8:07 pm - +234 817 939 8823 left',\n",
       " '02/01/2020, 9:31 pm - +234 817 605 4535 left']"
      ]
     },
     "execution_count": 6,
     "metadata": {},
     "output_type": "execute_result"
    }
   ],
   "source": [
    "#Drop 'left-ers'\n",
    "left = [line for line in apfesh if line.endswith(\"left\")]\n",
    "left"
   ]
  },
  {
   "cell_type": "code",
   "execution_count": 26,
   "metadata": {},
   "outputs": [
    {
     "ename": "AttributeError",
     "evalue": "'list' object has no attribute 'value_counts'",
     "output_type": "error",
     "traceback": [
      "\u001b[1;31m---------------------------------------------------------------------------\u001b[0m",
      "\u001b[1;31mAttributeError\u001b[0m                            Traceback (most recent call last)",
      "\u001b[1;32m<ipython-input-26-71dbbdb0891c>\u001b[0m in \u001b[0;36m<module>\u001b[1;34m\u001b[0m\n\u001b[1;32m----> 1\u001b[1;33m \u001b[0mleft\u001b[0m\u001b[1;33m.\u001b[0m\u001b[0mvalue_counts\u001b[0m\u001b[1;33m(\u001b[0m\u001b[1;33m)\u001b[0m\u001b[1;33m\u001b[0m\u001b[1;33m\u001b[0m\u001b[0m\n\u001b[0m",
      "\u001b[1;31mAttributeError\u001b[0m: 'list' object has no attribute 'value_counts'"
     ]
    }
   ],
   "source": [
    "left.value_counts()"
   ]
  },
  {
   "cell_type": "code",
   "execution_count": 7,
   "metadata": {},
   "outputs": [
    {
     "name": "stdout",
     "output_type": "stream",
     "text": [
      "4069\n"
     ]
    }
   ],
   "source": [
    "#Remove all that 'left'\n",
    "apfesh = [line for line in apfesh if not line.endswith(\"left\")]\n",
    "print(len(apfesh))"
   ]
  },
  {
   "cell_type": "code",
   "execution_count": 8,
   "metadata": {},
   "outputs": [
    {
     "data": {
      "text/plain": [
       "3070"
      ]
     },
     "execution_count": 8,
     "metadata": {},
     "output_type": "execute_result"
    }
   ],
   "source": [
    "#Merge messages that belong together\n",
    "msgs = [] #message container\n",
    "pos = 0 #counter for position of msgs in the container\n",
    "\"\"\"\n",
    "Flow:\n",
    "For every line, see if it matches the expression which is starting with the format \"number(s)+slash\" eg \"12/\"\n",
    "If it does, it is a new line of conversion as they begin with dates, add it to msgs container\n",
    "Else, it is a continuation of the previous line, add it to the previous line and append to msgs, then pop previous line.\n",
    "\"\"\"\n",
    "for line in apfesh:\n",
    "    if re.findall(\"\\A\\d+[/]\", line):\n",
    "        msgs.append(line)\n",
    "        pos += 1\n",
    "    else:\n",
    "        take = msgs[pos-1] + \". \" + line\n",
    "        msgs.append(take)\n",
    "        msgs.pop(pos-1)\n",
    "\n",
    "len(msgs)"
   ]
  },
  {
   "cell_type": "code",
   "execution_count": 9,
   "metadata": {},
   "outputs": [
    {
     "data": {
      "text/plain": [
       "[\"08/10/2019, 8:40 pm - +234 815 308 9036: It's an amazing tool.\",\n",
       " '08/10/2019, 8:43 pm - Richie: Ya it is but you need to have a good network provider',\n",
       " '08/10/2019, 8:43 pm - +234 817 190 1732: An amazing tool for quick insights not really  effective and efficient for diging deep',\n",
       " \"08/10/2019, 8:43 pm - Opaino: That's not true o\"]"
      ]
     },
     "execution_count": 9,
     "metadata": {},
     "output_type": "execute_result"
    }
   ],
   "source": [
    "msgs[5:9]"
   ]
  },
  {
   "cell_type": "code",
   "execution_count": 10,
   "metadata": {},
   "outputs": [
    {
     "data": {
      "text/plain": [
       "3068"
      ]
     },
     "execution_count": 10,
     "metadata": {},
     "output_type": "execute_result"
    }
   ],
   "source": [
    "#Drop first two lines: auto msg\n",
    "msgs = msgs[2:]\n",
    "len(msgs)"
   ]
  },
  {
   "cell_type": "code",
   "execution_count": 11,
   "metadata": {},
   "outputs": [
    {
     "data": {
      "text/plain": [
       "['08/10/2019, 9:55 pm - +234 909 778 5164: Right??',\n",
       " '08/10/2019, 9:56 pm - Opaino: Yeah',\n",
       " '08/10/2019, 9:56 pm - +234 909 778 5164: Hmm I have a problem with Indian tutors cos of their heavy accent though',\n",
       " '08/10/2019, 9:56 pm - +234 909 778 5164: Hard to understand sometimes',\n",
       " \"08/10/2019, 9:58 pm - Opaino: This one don't have accent actually🤣\"]"
      ]
     },
     "execution_count": 11,
     "metadata": {},
     "output_type": "execute_result"
    }
   ],
   "source": [
    "#peep message format so far\n",
    "msgs[50:55]"
   ]
  },
  {
   "cell_type": "code",
   "execution_count": 12,
   "metadata": {},
   "outputs": [
    {
     "name": "stdout",
     "output_type": "stream",
     "text": [
      "3068 3068 3068 3068\n"
     ]
    }
   ],
   "source": [
    "\n",
    "#make arrays of different parts of the messages\n",
    "date = []\n",
    "time = []\n",
    "number = []\n",
    "msg = []\n",
    "counter = 0\n",
    "for line in msgs:\n",
    "    x = line.split()\n",
    "    #Get the date\n",
    "    dating = x[0]\n",
    "    date.append(dating.replace(',',''))\n",
    "    \n",
    "    #Get the time\n",
    "    timing = x[1] + \" \" +x[2]\n",
    "    time.append(timing)\n",
    "    \n",
    "    #Get number\n",
    "    num = \" \".join(x[3:9]) #the parts numbers/names fall in\n",
    "    try:\n",
    "        match = re.search(r\"- ([^']*):\", num).group(1) #match between '- ' and ':' where they are per se\n",
    "        number.append(match)\n",
    "    except:\n",
    "        number.append(\"-\")\n",
    "        pass\n",
    "    #Get message\n",
    "    #num = \" \".join(x[3:8]) #num/name position\n",
    "    #match = re.search(r\"- ([^']*):\", num).group(1) #isolate the num/name per se\n",
    "    part = line.partition(match)[2] #partition according to the match and extract the last part, the msg\n",
    "    msging = part[2:] #strip off the first two characters as they are \": \"\n",
    "    msg.append(msging)\n",
    "    \n",
    "#     counter += 1\n",
    "#     print(counter)\n",
    "\n",
    "print(len(date), len(time), len(number), len(msg))"
   ]
  },
  {
   "cell_type": "code",
   "execution_count": 13,
   "metadata": {},
   "outputs": [
    {
     "data": {
      "text/html": [
       "<div>\n",
       "<style scoped>\n",
       "    .dataframe tbody tr th:only-of-type {\n",
       "        vertical-align: middle;\n",
       "    }\n",
       "\n",
       "    .dataframe tbody tr th {\n",
       "        vertical-align: top;\n",
       "    }\n",
       "\n",
       "    .dataframe thead th {\n",
       "        text-align: right;\n",
       "    }\n",
       "</style>\n",
       "<table border=\"1\" class=\"dataframe\">\n",
       "  <thead>\n",
       "    <tr style=\"text-align: right;\">\n",
       "      <th></th>\n",
       "      <th>date</th>\n",
       "      <th>time</th>\n",
       "      <th>number</th>\n",
       "      <th>msg</th>\n",
       "    </tr>\n",
       "  </thead>\n",
       "  <tbody>\n",
       "    <tr>\n",
       "      <th>0</th>\n",
       "      <td>08/10/2019</td>\n",
       "      <td>1:08 pm</td>\n",
       "      <td>+234 706 670 9874</td>\n",
       "      <td>Hi @27612900591 please don't forget to share. ...</td>\n",
       "    </tr>\n",
       "    <tr>\n",
       "      <th>1</th>\n",
       "      <td>08/10/2019</td>\n",
       "      <td>8:26 pm</td>\n",
       "      <td>+234 903 210 6832</td>\n",
       "      <td>Fiverr?</td>\n",
       "    </tr>\n",
       "    <tr>\n",
       "      <th>2</th>\n",
       "      <td>08/10/2019</td>\n",
       "      <td>8:28 pm</td>\n",
       "      <td>+234 803 584 4082</td>\n",
       "      <td>I tried the Google data studio today and I fou...</td>\n",
       "    </tr>\n",
       "    <tr>\n",
       "      <th>3</th>\n",
       "      <td>08/10/2019</td>\n",
       "      <td>8:40 pm</td>\n",
       "      <td>+234 815 308 9036</td>\n",
       "      <td>It's an amazing tool.</td>\n",
       "    </tr>\n",
       "    <tr>\n",
       "      <th>4</th>\n",
       "      <td>08/10/2019</td>\n",
       "      <td>8:43 pm</td>\n",
       "      <td>Richie</td>\n",
       "      <td>Ya it is but you need to have a good network p...</td>\n",
       "    </tr>\n",
       "  </tbody>\n",
       "</table>\n",
       "</div>"
      ],
      "text/plain": [
       "         date     time             number  \\\n",
       "0  08/10/2019  1:08 pm  +234 706 670 9874   \n",
       "1  08/10/2019  8:26 pm  +234 903 210 6832   \n",
       "2  08/10/2019  8:28 pm  +234 803 584 4082   \n",
       "3  08/10/2019  8:40 pm  +234 815 308 9036   \n",
       "4  08/10/2019  8:43 pm             Richie   \n",
       "\n",
       "                                                 msg  \n",
       "0  Hi @27612900591 please don't forget to share. ...  \n",
       "1                                            Fiverr?  \n",
       "2  I tried the Google data studio today and I fou...  \n",
       "3                              It's an amazing tool.  \n",
       "4  Ya it is but you need to have a good network p...  "
      ]
     },
     "execution_count": 13,
     "metadata": {},
     "output_type": "execute_result"
    }
   ],
   "source": [
    "#Put in a dataframe\n",
    "apfesh_df = pd.DataFrame()\n",
    "apfesh_df[\"date\"] = date\n",
    "apfesh_df[\"time\"] = time\n",
    "apfesh_df[\"number\"] = number\n",
    "apfesh_df[\"msg\"] = msg\n",
    "\n",
    "apfesh_df.head()"
   ]
  },
  {
   "cell_type": "code",
   "execution_count": 68,
   "metadata": {},
   "outputs": [
    {
     "data": {
      "image/png": "[encoded data removed]",
      "text/plain": [
       "<Figure size 432x288 with 1 Axes>"
      ]
     },
     "metadata": {},
     "output_type": "display_data"
    }
   ],
   "source": [
    "toptimeengaged = apfesh_df.time.value_counts(ascending=False).head(10)\n",
    "toptimeengaged.plot(kind=\"bar\", color='Darkblue')\n",
    "plt.xlabel =('Number of messages')\n",
    "plt.ylabel =('Time')"
   ]
  },
  {
   "cell_type": "code",
   "execution_count": 17,
   "metadata": {},
   "outputs": [
    {
     "name": "stdout",
     "output_type": "stream",
     "text": [
      "Opaino               527\n",
      "Muhammed Analyst     222\n",
      "Richie               179\n",
      "+234 809 479 3406    128\n",
      "+234 808 882 4940    125\n",
      "Name: number, dtype: int64\n"
     ]
    },
    {
     "data": {
      "text/plain": [
       "<matplotlib.axes._subplots.AxesSubplot at 0x1cfac5e4f98>"
      ]
     },
     "execution_count": 17,
     "metadata": {},
     "output_type": "execute_result"
    },
    {
     "data": {
      "image/png": "[encoded data removed]",
      "text/plain": [
       "<Figure size 432x288 with 1 Axes>"
      ]
     },
     "metadata": {
      "needs_background": "light"
     },
     "output_type": "display_data"
    }
   ],
   "source": [
    "top5messengers = apfesh_df.number.value_counts(ascending=False).head()\n",
    "print(top5messengers)\n",
    "top5messengers.plot(kind=\"bar\", color='Darkblue')"
   ]
  },
  {
   "cell_type": "code",
   "execution_count": 21,
   "metadata": {},
   "outputs": [
    {
     "name": "stdout",
     "output_type": "stream",
     "text": [
      "Opaino               527\n",
      "Muhammed Analyst     222\n",
      "Richie               179\n",
      "+234 809 479 3406    128\n",
      "+234 808 882 4940    125\n",
      "Name: number, dtype: int64\n"
     ]
    },
    {
     "data": {
      "image/png": "[encoded data removed]",
      "text/plain": [
       "<Figure size 432x288 with 1 Axes>"
      ]
     },
     "metadata": {
      "needs_background": "light"
     },
     "output_type": "display_data"
    }
   ],
   "source": [
    "print(top5messengers)\n",
    "fig, ax2 = plt.subplots()\n",
    "top10messengers.plot(kind='bar',ax=ax2, fontsize=10, color = 'Darkblue', sort_columns=True)\n",
    "ax2.grid(axis='y')\n",
    "plt.show()"
   ]
  },
  {
   "cell_type": "code",
   "execution_count": 66,
   "metadata": {},
   "outputs": [
    {
     "name": "stdout",
     "output_type": "stream",
     "text": [
      "Opaino               527\n",
      "Muhammed Analyst     222\n",
      "Richie               179\n",
      "+234 809 479 3406    128\n",
      "+234 808 882 4940    125\n",
      "+234 816 381 5935    105\n",
      "+27 82 780 8535      104\n",
      "Goodnews Ds          100\n",
      "+234 805 444 1077     83\n",
      "Obinna                66\n",
      "Name: number, dtype: int64\n"
     ]
    },
    {
     "data": {
      "image/png": "[encoded data removed]",
      "text/plain": [
       "<Figure size 432x288 with 1 Axes>"
      ]
     },
     "metadata": {},
     "output_type": "display_data"
    }
   ],
   "source": [
    "top10messengers = apfesh_df.number.value_counts(ascending=False).head(10)\n",
    "print(top10messengers)\n",
    "top10messengers.plot.barh(color='Darkblue')\n",
    "plt.xlabel = ('Number of sent message')"
   ]
  },
  {
   "cell_type": "code",
   "execution_count": 32,
   "metadata": {},
   "outputs": [],
   "source": [
    "apfesh_df['Letter_Count'] = apfesh_df['msg'].apply(lambda s : len(s))\n",
    "apfesh_df['Word_Count'] = apfesh_df['msg'].apply(lambda s : len(s.split(' ')))"
   ]
  },
  {
   "cell_type": "code",
   "execution_count": 34,
   "metadata": {},
   "outputs": [
    {
     "data": {
      "text/html": [
       "<div>\n",
       "<style scoped>\n",
       "    .dataframe tbody tr th:only-of-type {\n",
       "        vertical-align: middle;\n",
       "    }\n",
       "\n",
       "    .dataframe tbody tr th {\n",
       "        vertical-align: top;\n",
       "    }\n",
       "\n",
       "    .dataframe thead th {\n",
       "        text-align: right;\n",
       "    }\n",
       "</style>\n",
       "<table border=\"1\" class=\"dataframe\">\n",
       "  <thead>\n",
       "    <tr style=\"text-align: right;\">\n",
       "      <th></th>\n",
       "      <th>date</th>\n",
       "      <th>time</th>\n",
       "      <th>number</th>\n",
       "      <th>msg</th>\n",
       "      <th>Letter_Count</th>\n",
       "      <th>Word_Count</th>\n",
       "    </tr>\n",
       "  </thead>\n",
       "  <tbody>\n",
       "    <tr>\n",
       "      <th>0</th>\n",
       "      <td>08/10/2019</td>\n",
       "      <td>1:08 pm</td>\n",
       "      <td>+234 706 670 9874</td>\n",
       "      <td>Hi @27612900591 please don't forget to share. ...</td>\n",
       "      <td>57</td>\n",
       "      <td>10</td>\n",
       "    </tr>\n",
       "    <tr>\n",
       "      <th>1</th>\n",
       "      <td>08/10/2019</td>\n",
       "      <td>8:26 pm</td>\n",
       "      <td>+234 903 210 6832</td>\n",
       "      <td>Fiverr?</td>\n",
       "      <td>7</td>\n",
       "      <td>1</td>\n",
       "    </tr>\n",
       "    <tr>\n",
       "      <th>2</th>\n",
       "      <td>08/10/2019</td>\n",
       "      <td>8:28 pm</td>\n",
       "      <td>+234 803 584 4082</td>\n",
       "      <td>I tried the Google data studio today and I fou...</td>\n",
       "      <td>65</td>\n",
       "      <td>13</td>\n",
       "    </tr>\n",
       "    <tr>\n",
       "      <th>3</th>\n",
       "      <td>08/10/2019</td>\n",
       "      <td>8:40 pm</td>\n",
       "      <td>+234 815 308 9036</td>\n",
       "      <td>It's an amazing tool.</td>\n",
       "      <td>21</td>\n",
       "      <td>4</td>\n",
       "    </tr>\n",
       "    <tr>\n",
       "      <th>4</th>\n",
       "      <td>08/10/2019</td>\n",
       "      <td>8:43 pm</td>\n",
       "      <td>Richie</td>\n",
       "      <td>Ya it is but you need to have a good network p...</td>\n",
       "      <td>53</td>\n",
       "      <td>12</td>\n",
       "    </tr>\n",
       "  </tbody>\n",
       "</table>\n",
       "</div>"
      ],
      "text/plain": [
       "         date     time             number  \\\n",
       "0  08/10/2019  1:08 pm  +234 706 670 9874   \n",
       "1  08/10/2019  8:26 pm  +234 903 210 6832   \n",
       "2  08/10/2019  8:28 pm  +234 803 584 4082   \n",
       "3  08/10/2019  8:40 pm  +234 815 308 9036   \n",
       "4  08/10/2019  8:43 pm             Richie   \n",
       "\n",
       "                                                 msg  Letter_Count  Word_Count  \n",
       "0  Hi @27612900591 please don't forget to share. ...            57          10  \n",
       "1                                            Fiverr?             7           1  \n",
       "2  I tried the Google data studio today and I fou...            65          13  \n",
       "3                              It's an amazing tool.            21           4  \n",
       "4  Ya it is but you need to have a good network p...            53          12  "
      ]
     },
     "execution_count": 34,
     "metadata": {},
     "output_type": "execute_result"
    }
   ],
   "source": [
    "apfesh_df.head()"
   ]
  },
  {
   "cell_type": "code",
   "execution_count": 38,
   "metadata": {},
   "outputs": [
    {
     "data": {
      "text/html": [
       "<div>\n",
       "<style scoped>\n",
       "    .dataframe tbody tr th:only-of-type {\n",
       "        vertical-align: middle;\n",
       "    }\n",
       "\n",
       "    .dataframe tbody tr th {\n",
       "        vertical-align: top;\n",
       "    }\n",
       "\n",
       "    .dataframe thead th {\n",
       "        text-align: right;\n",
       "    }\n",
       "</style>\n",
       "<table border=\"1\" class=\"dataframe\">\n",
       "  <thead>\n",
       "    <tr style=\"text-align: right;\">\n",
       "      <th></th>\n",
       "      <th>date</th>\n",
       "      <th>time</th>\n",
       "      <th>number</th>\n",
       "      <th>msg</th>\n",
       "    </tr>\n",
       "  </thead>\n",
       "  <tbody>\n",
       "    <tr>\n",
       "      <th>count</th>\n",
       "      <td>3068</td>\n",
       "      <td>3068</td>\n",
       "      <td>3068</td>\n",
       "      <td>3068</td>\n",
       "    </tr>\n",
       "    <tr>\n",
       "      <th>unique</th>\n",
       "      <td>78</td>\n",
       "      <td>992</td>\n",
       "      <td>196</td>\n",
       "      <td>2555</td>\n",
       "    </tr>\n",
       "    <tr>\n",
       "      <th>top</th>\n",
       "      <td>30/12/2019</td>\n",
       "      <td>11:11 pm</td>\n",
       "      <td>Opaino</td>\n",
       "      <td>&lt;Media omitted&gt;</td>\n",
       "    </tr>\n",
       "    <tr>\n",
       "      <th>freq</th>\n",
       "      <td>497</td>\n",
       "      <td>17</td>\n",
       "      <td>527</td>\n",
       "      <td>173</td>\n",
       "    </tr>\n",
       "  </tbody>\n",
       "</table>\n",
       "</div>"
      ],
      "text/plain": [
       "              date      time  number              msg\n",
       "count         3068      3068    3068             3068\n",
       "unique          78       992     196             2555\n",
       "top     30/12/2019  11:11 pm  Opaino  <Media omitted>\n",
       "freq           497        17     527              173"
      ]
     },
     "execution_count": 38,
     "metadata": {},
     "output_type": "execute_result"
    }
   ],
   "source": [
    "apfesh_df.describe(include='object')"
   ]
  },
  {
   "cell_type": "code",
   "execution_count": 39,
   "metadata": {},
   "outputs": [
    {
     "data": {
      "text/html": [
       "<div>\n",
       "<style scoped>\n",
       "    .dataframe tbody tr th:only-of-type {\n",
       "        vertical-align: middle;\n",
       "    }\n",
       "\n",
       "    .dataframe tbody tr th {\n",
       "        vertical-align: top;\n",
       "    }\n",
       "\n",
       "    .dataframe thead th {\n",
       "        text-align: right;\n",
       "    }\n",
       "</style>\n",
       "<table border=\"1\" class=\"dataframe\">\n",
       "  <thead>\n",
       "    <tr style=\"text-align: right;\">\n",
       "      <th></th>\n",
       "      <th>Letter_Count</th>\n",
       "      <th>Word_Count</th>\n",
       "    </tr>\n",
       "  </thead>\n",
       "  <tbody>\n",
       "    <tr>\n",
       "      <th>count</th>\n",
       "      <td>3068.000000</td>\n",
       "      <td>3068.000000</td>\n",
       "    </tr>\n",
       "    <tr>\n",
       "      <th>mean</th>\n",
       "      <td>70.070078</td>\n",
       "      <td>12.039113</td>\n",
       "    </tr>\n",
       "    <tr>\n",
       "      <th>std</th>\n",
       "      <td>161.340009</td>\n",
       "      <td>27.039775</td>\n",
       "    </tr>\n",
       "    <tr>\n",
       "      <th>min</th>\n",
       "      <td>0.000000</td>\n",
       "      <td>1.000000</td>\n",
       "    </tr>\n",
       "    <tr>\n",
       "      <th>25%</th>\n",
       "      <td>14.000000</td>\n",
       "      <td>2.000000</td>\n",
       "    </tr>\n",
       "    <tr>\n",
       "      <th>50%</th>\n",
       "      <td>30.000000</td>\n",
       "      <td>5.000000</td>\n",
       "    </tr>\n",
       "    <tr>\n",
       "      <th>75%</th>\n",
       "      <td>73.000000</td>\n",
       "      <td>12.000000</td>\n",
       "    </tr>\n",
       "    <tr>\n",
       "      <th>max</th>\n",
       "      <td>2552.000000</td>\n",
       "      <td>438.000000</td>\n",
       "    </tr>\n",
       "  </tbody>\n",
       "</table>\n",
       "</div>"
      ],
      "text/plain": [
       "       Letter_Count   Word_Count\n",
       "count   3068.000000  3068.000000\n",
       "mean      70.070078    12.039113\n",
       "std      161.340009    27.039775\n",
       "min        0.000000     1.000000\n",
       "25%       14.000000     2.000000\n",
       "50%       30.000000     5.000000\n",
       "75%       73.000000    12.000000\n",
       "max     2552.000000   438.000000"
      ]
     },
     "execution_count": 39,
     "metadata": {},
     "output_type": "execute_result"
    }
   ],
   "source": [
    "apfesh_df.describe()"
   ]
  },
  {
   "cell_type": "code",
   "execution_count": 40,
   "metadata": {},
   "outputs": [
    {
     "data": {
      "text/plain": [
       "(214975, 36936)"
      ]
     },
     "execution_count": 40,
     "metadata": {},
     "output_type": "execute_result"
    }
   ],
   "source": [
    "apfesh_df['Letter_Count'].sum(), apfesh_df['Word_Count'].sum()"
   ]
  },
  {
   "cell_type": "code",
   "execution_count": 65,
   "metadata": {},
   "outputs": [
    {
     "ename": "TypeError",
     "evalue": "'str' object is not callable",
     "output_type": "error",
     "traceback": [
      "\u001b[1;31m---------------------------------------------------------------------------\u001b[0m",
      "\u001b[1;31mTypeError\u001b[0m                                 Traceback (most recent call last)",
      "\u001b[1;32m<ipython-input-65-a07c9bbeaa99>\u001b[0m in \u001b[0;36m<module>\u001b[1;34m\u001b[0m\n\u001b[0;32m      1\u001b[0m \u001b[0mtop10date\u001b[0m \u001b[1;33m=\u001b[0m \u001b[0mapfesh_df\u001b[0m\u001b[1;33m[\u001b[0m\u001b[1;34m'date'\u001b[0m\u001b[1;33m]\u001b[0m\u001b[1;33m.\u001b[0m\u001b[0mvalue_counts\u001b[0m\u001b[1;33m(\u001b[0m\u001b[1;33m)\u001b[0m\u001b[1;33m.\u001b[0m\u001b[0mhead\u001b[0m\u001b[1;33m(\u001b[0m\u001b[1;36m10\u001b[0m\u001b[1;33m)\u001b[0m\u001b[1;31m# Top 10 Dates on which the most number of messages were sent\u001b[0m\u001b[1;33m\u001b[0m\u001b[1;33m\u001b[0m\u001b[0m\n\u001b[0;32m      2\u001b[0m \u001b[0mtop10date\u001b[0m\u001b[1;33m.\u001b[0m\u001b[0mplot\u001b[0m\u001b[1;33m.\u001b[0m\u001b[0mbarh\u001b[0m\u001b[1;33m(\u001b[0m\u001b[0mcolor\u001b[0m\u001b[1;33m=\u001b[0m \u001b[1;34m'Darkblue'\u001b[0m\u001b[1;33m)\u001b[0m\u001b[1;33m\u001b[0m\u001b[1;33m\u001b[0m\u001b[0m\n\u001b[1;32m----> 3\u001b[1;33m \u001b[0mplt\u001b[0m\u001b[1;33m.\u001b[0m\u001b[0mxlabel\u001b[0m\u001b[1;33m(\u001b[0m\u001b[1;34m'Number of Messages'\u001b[0m\u001b[1;33m)\u001b[0m\u001b[1;33m\u001b[0m\u001b[1;33m\u001b[0m\u001b[0m\n\u001b[0m\u001b[0;32m      4\u001b[0m \u001b[0mplt\u001b[0m\u001b[1;33m.\u001b[0m\u001b[0mylabel\u001b[0m\u001b[1;33m(\u001b[0m\u001b[1;34m'Date'\u001b[0m\u001b[1;33m)\u001b[0m\u001b[1;33m\u001b[0m\u001b[1;33m\u001b[0m\u001b[0m\n",
      "\u001b[1;31mTypeError\u001b[0m: 'str' object is not callable"
     ]
    },
    {
     "data": {
      "image/png": "[encoded data removed]",
      "text/plain": [
       "<Figure size 432x288 with 1 Axes>"
      ]
     },
     "metadata": {},
     "output_type": "display_data"
    }
   ],
   "source": [
    "top10date = apfesh_df['date'].value_counts().head(10)# Top 10 Dates on which the most number of messages were sent\n",
    "top10date.plot.barh(color= 'Darkblue')\n",
    "plt.xlabel('Number of Messages')\n",
    "plt.ylabel('Date')"
   ]
  },
  {
   "cell_type": "code",
   "execution_count": 51,
   "metadata": {},
   "outputs": [],
   "source": [
    "apfesh_df['Hour'] = apfesh_df['time'].apply(lambda x : x.split(':')[0]) # The first token of a value in the Time Column contains the hour (Eg., \"20\" in \"20:15\")"
   ]
  },
  {
   "cell_type": "code",
   "execution_count": 74,
   "metadata": {},
   "outputs": [
    {
     "data": {
      "image/png": "[encoded data removed]",
      "text/plain": [
       "<Figure size 432x288 with 1 Axes>"
      ]
     },
     "metadata": {},
     "output_type": "display_data"
    }
   ],
   "source": [
    "top10hourtochat = apfesh_df['Hour'].value_counts().head(10).sort_index(ascending=False) # Top 10 Hours of the day during which the most number of messages were sent\n",
    "ax = top10hourtochat.plot.line(color='Darkblue')\n",
    "ax.set_xlabel = ('Number of messages')\n",
    "ax.set_ylabel = ('Hour of Day')"
   ]
  },
  {
   "cell_type": "code",
   "execution_count": 75,
   "metadata": {},
   "outputs": [
    {
     "name": "stdout",
     "output_type": "stream",
     "text": [
      "Using matplotlib backend: Qt5Agg\n"
     ]
    }
   ],
   "source": [
    "import matplotlib.pyplot as plt\n",
    "plt.style.use('ggplot')\n",
    "%matplotlib"
   ]
  },
  {
   "cell_type": "code",
   "execution_count": null,
   "metadata": {},
   "outputs": [],
   "source": []
  }
 ],
 "metadata": {
  "kernelspec": {
   "display_name": "Python 3.6 (tensorflow)",
   "language": "python",
   "name": "tensorflow"
  },
  "language_info": {
   "codemirror_mode": {
    "name": "ipython",
    "version": 3
   },
   "file_extension": ".py",
   "mimetype": "text/x-python",
   "name": "python",
   "nbconvert_exporter": "python",
   "pygments_lexer": "ipython3",
   "version": "3.6.9"
  }
 },
 "nbformat": 4,
 "nbformat_minor": 2
}
